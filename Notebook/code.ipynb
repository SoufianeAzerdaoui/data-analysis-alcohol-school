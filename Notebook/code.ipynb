{
 "cells": [
  {
   "cell_type": "code",
   "execution_count": 2,
   "id": "ff061491-e11d-4d76-a9c4-be12d7458999",
   "metadata": {},
   "outputs": [
    {
     "name": "stdout",
     "output_type": "stream",
     "text": [
      "Requirement already satisfied: numpy in c:\\users\\pc\\appdata\\local\\programs\\python\\python310\\lib\\site-packages (2.2.3)\n",
      "Requirement already satisfied: pandas in c:\\users\\pc\\appdata\\local\\programs\\python\\python310\\lib\\site-packages (2.2.3)\n",
      "Requirement already satisfied: python-dateutil>=2.8.2 in c:\\users\\pc\\appdata\\local\\programs\\python\\python310\\lib\\site-packages (from pandas) (2.9.0.post0)\n",
      "Requirement already satisfied: pytz>=2020.1 in c:\\users\\pc\\appdata\\local\\programs\\python\\python310\\lib\\site-packages (from pandas) (2025.1)\n",
      "Requirement already satisfied: tzdata>=2022.7 in c:\\users\\pc\\appdata\\local\\programs\\python\\python310\\lib\\site-packages (from pandas) (2025.1)\n",
      "Requirement already satisfied: six>=1.5 in c:\\users\\pc\\appdata\\local\\programs\\python\\python310\\lib\\site-packages (from python-dateutil>=2.8.2->pandas) (1.17.0)\n"
     ]
    },
    {
     "name": "stderr",
     "output_type": "stream",
     "text": [
      "\n",
      "[notice] A new release of pip is available: 25.0.1 -> 25.1.1\n",
      "[notice] To update, run: python.exe -m pip install --upgrade pip\n"
     ]
    }
   ],
   "source": [
    "!pip install numpy pandas"
   ]
  },
  {
   "cell_type": "code",
   "execution_count": 4,
   "id": "6d70809b-5960-451f-a88b-a63dd8d4de73",
   "metadata": {},
   "outputs": [
    {
     "name": "stdout",
     "output_type": "stream",
     "text": [
      "C:\\Users\\PC\\Desktop\\Projects\\AI\\Call_Center_AI\\extraction_data\\notebook\\Scripts\\python.exe\n"
     ]
    }
   ],
   "source": [
    "import sys\n",
    "print(sys.executable)\n"
   ]
  },
  {
   "cell_type": "code",
   "execution_count": 1,
   "id": "f6b5febb-0ea5-4f70-8e52-78874a9e5002",
   "metadata": {},
   "outputs": [],
   "source": [
    "import numpy as np\n",
    "import pandas as pd"
   ]
  },
  {
   "cell_type": "code",
   "execution_count": 2,
   "id": "d8739308-eeca-4a0c-8157-adda96473657",
   "metadata": {},
   "outputs": [],
   "source": [
    "math_data = pd.read_csv(r'C:\\Users\\PC\\Desktop\\ESISA\\4 eme - Semestre 2\\Data Analyst\\projet\\student+performance\\student\\student-mat.csv', sep=';')\n",
    "portuguese_data = pd.read_csv(r'C:\\Users\\PC\\Desktop\\ESISA\\4 eme - Semestre 2\\Data Analyst\\projet\\student+performance\\student\\student-por.csv', sep=';')\n"
   ]
  },
  {
   "cell_type": "code",
   "execution_count": 4,
   "id": "095f0813-02c1-403b-8ad5-44387a1c5fdd",
   "metadata": {},
   "outputs": [
    {
     "data": {
      "text/plain": [
       "Index(['school', 'sex', 'age', 'address', 'famsize', 'Pstatus', 'Medu', 'Fedu',\n",
       "       'Mjob', 'Fjob', 'reason', 'guardian', 'traveltime', 'studytime',\n",
       "       'failures', 'schoolsup', 'famsup', 'paid', 'activities', 'nursery',\n",
       "       'higher', 'internet', 'romantic', 'famrel', 'freetime', 'goout', 'Dalc',\n",
       "       'Walc', 'health', 'absences', 'G1', 'G2', 'G3'],\n",
       "      dtype='object')"
      ]
     },
     "execution_count": 4,
     "metadata": {},
     "output_type": "execute_result"
    }
   ],
   "source": [
    "math_data.columns"
   ]
  },
  {
   "cell_type": "code",
   "execution_count": 5,
   "id": "d57fc9ba-ca13-485c-956a-de62a24345a2",
   "metadata": {},
   "outputs": [
    {
     "data": {
      "text/plain": [
       "Index(['school', 'sex', 'age', 'address', 'famsize', 'Pstatus', 'Medu', 'Fedu',\n",
       "       'Mjob', 'Fjob', 'reason', 'guardian', 'traveltime', 'studytime',\n",
       "       'failures', 'schoolsup', 'famsup', 'paid', 'activities', 'nursery',\n",
       "       'higher', 'internet', 'romantic', 'famrel', 'freetime', 'goout', 'Dalc',\n",
       "       'Walc', 'health', 'absences', 'G1', 'G2', 'G3'],\n",
       "      dtype='object')"
      ]
     },
     "execution_count": 5,
     "metadata": {},
     "output_type": "execute_result"
    }
   ],
   "source": [
    "portuguese_data.columns"
   ]
  },
  {
   "cell_type": "markdown",
   "id": "d2e15651-071c-4e1b-9f85-ec6c60d18731",
   "metadata": {},
   "source": [
    "# Prétraitement "
   ]
  },
  {
   "cell_type": "code",
   "execution_count": 7,
   "id": "5e08844f-e1ba-4bd5-8f59-df76ea6a3ec2",
   "metadata": {},
   "outputs": [
    {
     "name": "stdout",
     "output_type": "stream",
     "text": [
      "Dimensions du dataset math: (395, 33)\n",
      "Dimensions du dataset portugais: (649, 33)\n"
     ]
    }
   ],
   "source": [
    "print(f\"Dimensions du dataset math: {math_data.shape}\")\n",
    "print(f\"Dimensions du dataset portugais: {portuguese_data.shape}\")\n"
   ]
  },
  {
   "cell_type": "markdown",
   "id": "c3476018-e099-4725-a3bb-d368b2ae7bb5",
   "metadata": {},
   "source": [
    "###  Fusion des datasets"
   ]
  },
  {
   "cell_type": "code",
   "execution_count": 29,
   "id": "52db1222-ad00-4dd2-8343-c2b8c48e7515",
   "metadata": {},
   "outputs": [],
   "source": [
    "df= pd.merge(math_data, portuguese_data, \n",
    "              on=[\"school\", \"sex\", \"age\", \"address\", \"famsize\", \"Pstatus\", \n",
    "                  \"Medu\", \"Fedu\", \"Mjob\", \"Fjob\", \"reason\", \"nursery\", \"internet\"])\n",
    "\n"
   ]
  },
  {
   "cell_type": "code",
   "execution_count": 30,
   "id": "d5c86d15-8a55-4333-8c8e-2437b6288cdd",
   "metadata": {},
   "outputs": [
    {
     "name": "stdout",
     "output_type": "stream",
     "text": [
      "Nombre d'étudiants communs: 382\n"
     ]
    }
   ],
   "source": [
    "print(f\"Nombre d'étudiants communs: {len(df)}\") \n"
   ]
  },
  {
   "cell_type": "code",
   "execution_count": 31,
   "id": "3cd53e0d-39ca-4197-b548-adcf0ea146b8",
   "metadata": {},
   "outputs": [
    {
     "data": {
      "text/plain": [
       "(382, 53)"
      ]
     },
     "execution_count": 31,
     "metadata": {},
     "output_type": "execute_result"
    }
   ],
   "source": [
    "df.shape"
   ]
  },
  {
   "cell_type": "code",
   "execution_count": 32,
   "id": "6d4612eb-29f2-4c87-acfb-f43f9cb45261",
   "metadata": {},
   "outputs": [
    {
     "data": {
      "text/plain": [
       "Index(['school', 'sex', 'age', 'address', 'famsize', 'Pstatus', 'Medu', 'Fedu',\n",
       "       'Mjob', 'Fjob', 'reason', 'guardian_x', 'traveltime_x', 'studytime_x',\n",
       "       'failures_x', 'schoolsup_x', 'famsup_x', 'paid_x', 'activities_x',\n",
       "       'nursery', 'higher_x', 'internet', 'romantic_x', 'famrel_x',\n",
       "       'freetime_x', 'goout_x', 'Dalc_x', 'Walc_x', 'health_x', 'absences_x',\n",
       "       'G1_x', 'G2_x', 'G3_x', 'guardian_y', 'traveltime_y', 'studytime_y',\n",
       "       'failures_y', 'schoolsup_y', 'famsup_y', 'paid_y', 'activities_y',\n",
       "       'higher_y', 'romantic_y', 'famrel_y', 'freetime_y', 'goout_y', 'Dalc_y',\n",
       "       'Walc_y', 'health_y', 'absences_y', 'G1_y', 'G2_y', 'G3_y'],\n",
       "      dtype='object')"
      ]
     },
     "execution_count": 32,
     "metadata": {},
     "output_type": "execute_result"
    }
   ],
   "source": [
    "df.columns"
   ]
  },
  {
   "cell_type": "code",
   "execution_count": 33,
   "id": "18d0eded-b8c7-41b8-af70-dd9f7267e068",
   "metadata": {},
   "outputs": [
    {
     "name": "stdout",
     "output_type": "stream",
     "text": [
      "Colonnes dupliquées (paire _x/_y) détectées :\n",
      "- guardian_x & guardian_y\n",
      "- traveltime_x & traveltime_y\n",
      "- studytime_x & studytime_y\n",
      "- failures_x & failures_y\n",
      "- schoolsup_x & schoolsup_y\n",
      "- famsup_x & famsup_y\n",
      "- paid_x & paid_y\n",
      "- activities_x & activities_y\n",
      "- higher_x & higher_y\n",
      "- romantic_x & romantic_y\n",
      "- famrel_x & famrel_y\n",
      "- freetime_x & freetime_y\n",
      "- goout_x & goout_y\n",
      "- Dalc_x & Dalc_y\n",
      "- Walc_x & Walc_y\n",
      "- health_x & health_y\n",
      "- absences_x & absences_y\n",
      "- G1_x & G1_y\n",
      "- G2_x & G2_y\n",
      "- G3_x & G3_y\n"
     ]
    }
   ],
   "source": [
    "# Obtenir les colonnes avec suffixes _x et _y\n",
    "x_cols = [col for col in df.columns if col.endswith('_x')]\n",
    "y_cols = [col for col in df.columns if col.endswith('_y')]\n",
    "\n",
    "common_cols = [col[:-2] for col in x_cols if col[:-2] + '_y' in df.columns]\n",
    "\n",
    "print(\"Colonnes dupliquées (paire _x/_y) détectées :\")\n",
    "for col in common_cols:\n",
    "    print(f\"- {col}_x & {col}_y\")\n"
   ]
  },
  {
   "cell_type": "markdown",
   "id": "29f32aad-c7fb-4d11-8c48-baa94b6547da",
   "metadata": {},
   "source": [
    "### Stratégies pour résoudre le problème des colonnes dupliquées"
   ]
  },
  {
   "cell_type": "markdown",
   "id": "84979647-ccad-4c7b-b440-b08f2cf19f8a",
   "metadata": {},
   "source": [
    "***\n",
    "Colonnes très similaires (> 90%)\n",
    "Conserver une seule version (ex. guardian_x) et supprimer l'autre (guardian_y).\n",
    "Colonnes concernées : guardian, traveltime, studytime, schoolsup, famsup, activities, higher, romantic, famrel, freetime, goout, Dalc, Walc, health.\n",
    "\n",
    "Colonnes moyennement cohérentes (60% < cohérence < 90%)\n",
    "Garder les deux si nécessaire, sinon ne conserver qu'une seule.\n",
    "\n",
    "Exemple : failures (86%) → garder failures_x.\n",
    "\n",
    "paid (55%) → utile de conserver les deux pour comparer les cours.\n",
    "\n",
    "Colonnes très divergentes (< 50%)\n",
    "Garder les deux ou analyser individuellement.\n",
    "\n",
    "Exemple : absences (26,7%) → conserver séparément (absences_math, absences_por).\n",
    "\n",
    "Colonnes de notes (G1, G2, G3)\n",
    "Garder les deux versions et les renommer par matière (ex. G1_math, G1_por).\n",
    "***"
   ]
  },
  {
   "cell_type": "code",
   "execution_count": 34,
   "id": "3f049fe3-75de-4f08-8d56-7eacd2d553f1",
   "metadata": {},
   "outputs": [
    {
     "data": {
      "text/plain": [
       "['guardian',\n",
       " 'traveltime',\n",
       " 'studytime',\n",
       " 'failures',\n",
       " 'schoolsup',\n",
       " 'famsup',\n",
       " 'paid',\n",
       " 'activities',\n",
       " 'higher',\n",
       " 'romantic',\n",
       " 'famrel',\n",
       " 'freetime',\n",
       " 'goout',\n",
       " 'Dalc',\n",
       " 'Walc',\n",
       " 'health',\n",
       " 'absences',\n",
       " 'G1',\n",
       " 'G2',\n",
       " 'G3']"
      ]
     },
     "execution_count": 34,
     "metadata": {},
     "output_type": "execute_result"
    }
   ],
   "source": [
    "# 6. Identifier les colonnes dupliquées avec suffixes _math et _por\n",
    "math_cols = [col for col in df.columns if col.endswith('_x')]\n",
    "por_cols = [col for col in df.columns if col.endswith('_y')]\n",
    "common_prefix = [col[:-2] for col in math_cols if col[:-2] + '_y' in df.columns]\n",
    "common_prefix"
   ]
  },
  {
   "cell_type": "code",
   "execution_count": 35,
   "id": "c915252e-93b2-4753-85eb-b4152dda0357",
   "metadata": {
    "scrolled": true
   },
   "outputs": [
    {
     "name": "stdout",
     "output_type": "stream",
     "text": [
      "\n",
      "Vérification de la cohérence des colonnes dupliquées...\n",
      "- guardian: 98.43% des valeurs sont identiques entre math et portugais\n",
      "- traveltime: 98.69% des valeurs sont identiques entre math et portugais\n",
      "- studytime: 97.64% des valeurs sont identiques entre math et portugais\n",
      "- failures: 86.13% des valeurs sont identiques entre math et portugais\n",
      "- schoolsup: 99.21% des valeurs sont identiques entre math et portugais\n",
      "- famsup: 98.69% des valeurs sont identiques entre math et portugais\n",
      "- paid: 55.24% des valeurs sont identiques entre math et portugais\n",
      "- activities: 98.69% des valeurs sont identiques entre math et portugais\n",
      "- higher: 98.95% des valeurs sont identiques entre math et portugais\n",
      "- romantic: 98.43% des valeurs sont identiques entre math et portugais\n",
      "- famrel: 97.38% des valeurs sont identiques entre math et portugais\n",
      "- freetime: 97.12% des valeurs sont identiques entre math et portugais\n",
      "- goout: 97.38% des valeurs sont identiques entre math et portugais\n",
      "- Dalc: 98.69% des valeurs sont identiques entre math et portugais\n",
      "- Walc: 96.86% des valeurs sont identiques entre math et portugais\n",
      "- health: 97.91% des valeurs sont identiques entre math et portugais\n",
      "- absences: 26.70% des valeurs sont identiques entre math et portugais\n"
     ]
    }
   ],
   "source": [
    "print(\"\\nVérification de la cohérence des colonnes dupliquées...\")\n",
    "consistency_check = {}\n",
    "\n",
    "for col in common_prefix:\n",
    "    # Exclure les notes qui sont naturellement différentes\n",
    "    if col not in ['G1', 'G2', 'G3']:  \n",
    "        math_col = f\"{col}_x\"\n",
    "        por_col = f\"{col}_y\"\n",
    "        # Calculer le pourcentage de valeurs identiques\n",
    "        identical = (df[math_col] == df[por_col]).mean() * 100\n",
    "        consistency_check[col] = identical\n",
    "        print(f\"- {col}: {identical:.2f}% des valeurs sont identiques entre math et portugais\")\n"
   ]
  },
  {
   "cell_type": "code",
   "execution_count": 36,
   "id": "53036f7b-b9dd-4e89-a616-b4cb13a6b6ba",
   "metadata": {},
   "outputs": [],
   "source": [
    "cols_to_drop = [\n",
    "    'guardian_y', 'traveltime_y', 'studytime_y', 'schoolsup_y', 'famsup_y',\n",
    "    'activities_y', 'higher_y', 'romantic_y', 'famrel_y', 'freetime_y',\n",
    "    'goout_y', 'Dalc_y', 'Walc_y', 'health_y'\n",
    "]\n",
    "df.drop(columns=cols_to_drop, inplace=True)\n"
   ]
  },
  {
   "cell_type": "code",
   "execution_count": 37,
   "id": "637efc51-32a8-46aa-9fab-34c0c319f637",
   "metadata": {},
   "outputs": [],
   "source": [
    "df.rename(columns={col: col[:-2] for col in df.columns if col.endswith('_x')}, inplace=True)"
   ]
  },
  {
   "cell_type": "code",
   "execution_count": 38,
   "id": "c32fc0d6-6915-43d8-a863-b8ab0036940c",
   "metadata": {},
   "outputs": [],
   "source": [
    "df.rename(columns={\n",
    "    'paid_x': 'paid_math', 'paid_y': 'paid_por',\n",
    "    'failures_x': 'failures_math', 'failures_y': 'failures_por',\n",
    "    'absences_x': 'absences_math', 'absences_y': 'absences_por',\n",
    "    'G1_x': 'G1_math', 'G2_x': 'G2_math', 'G3_x': 'G3_math',\n",
    "    'G1_y': 'G1_por', 'G2_y': 'G2_por', 'G3_y': 'G3_por',\n",
    "}, inplace=True)\n"
   ]
  },
  {
   "cell_type": "code",
   "execution_count": 40,
   "id": "c71e47fe-f61a-42b0-9636-4885e829f062",
   "metadata": {
    "scrolled": true
   },
   "outputs": [
    {
     "name": "stdout",
     "output_type": "stream",
     "text": [
      "['school', 'sex', 'age', 'address', 'famsize', 'Pstatus', 'Medu', 'Fedu', 'Mjob', 'Fjob', 'reason', 'guardian', 'traveltime', 'studytime', 'failures', 'schoolsup', 'famsup', 'paid', 'activities', 'nursery', 'higher', 'internet', 'romantic', 'famrel', 'freetime', 'goout', 'Dalc', 'Walc', 'health', 'absences', 'G1', 'G2', 'G3', 'failures_por', 'paid_por', 'absences_por', 'G1_por', 'G2_por', 'G3_por']\n"
     ]
    }
   ],
   "source": [
    "print(df.columns.tolist())"
   ]
  },
  {
   "cell_type": "markdown",
   "id": "8dea3e72-ca3f-42f9-bdd1-6cea6e6fd9c2",
   "metadata": {},
   "source": [
    "### Vérifier les valeurs manquantes"
   ]
  },
  {
   "cell_type": "code",
   "execution_count": 42,
   "id": "2cc0806d-b968-4f2f-831f-9ee072458794",
   "metadata": {},
   "outputs": [
    {
     "data": {
      "text/plain": [
       "school          0\n",
       "sex             0\n",
       "age             0\n",
       "address         0\n",
       "famsize         0\n",
       "Pstatus         0\n",
       "Medu            0\n",
       "Fedu            0\n",
       "Mjob            0\n",
       "Fjob            0\n",
       "reason          0\n",
       "guardian        0\n",
       "traveltime      0\n",
       "studytime       0\n",
       "failures        0\n",
       "schoolsup       0\n",
       "famsup          0\n",
       "paid            0\n",
       "activities      0\n",
       "nursery         0\n",
       "higher          0\n",
       "internet        0\n",
       "romantic        0\n",
       "famrel          0\n",
       "freetime        0\n",
       "goout           0\n",
       "Dalc            0\n",
       "Walc            0\n",
       "health          0\n",
       "absences        0\n",
       "G1              0\n",
       "G2              0\n",
       "G3              0\n",
       "failures_por    0\n",
       "paid_por        0\n",
       "absences_por    0\n",
       "G1_por          0\n",
       "G2_por          0\n",
       "G3_por          0\n",
       "dtype: int64"
      ]
     },
     "execution_count": 42,
     "metadata": {},
     "output_type": "execute_result"
    }
   ],
   "source": [
    "df.isnull().sum().sort_values(ascending=False)\n"
   ]
  },
  {
   "cell_type": "markdown",
   "id": "38a15e72-0204-4f59-b279-8ba10f3f3af3",
   "metadata": {},
   "source": [
    "### Nettoyage des types de données"
   ]
  },
  {
   "cell_type": "code",
   "execution_count": 44,
   "id": "51e0a8ad-5b91-4194-9197-0b96f3d713da",
   "metadata": {},
   "outputs": [
    {
     "data": {
      "text/plain": [
       "school          object\n",
       "sex             object\n",
       "age              int64\n",
       "address         object\n",
       "famsize         object\n",
       "Pstatus         object\n",
       "Medu             int64\n",
       "Fedu             int64\n",
       "Mjob            object\n",
       "Fjob            object\n",
       "reason          object\n",
       "guardian        object\n",
       "traveltime       int64\n",
       "studytime        int64\n",
       "failures         int64\n",
       "schoolsup       object\n",
       "famsup          object\n",
       "paid            object\n",
       "activities      object\n",
       "nursery         object\n",
       "higher          object\n",
       "internet        object\n",
       "romantic        object\n",
       "famrel           int64\n",
       "freetime         int64\n",
       "goout            int64\n",
       "Dalc             int64\n",
       "Walc             int64\n",
       "health           int64\n",
       "absences         int64\n",
       "G1               int64\n",
       "G2               int64\n",
       "G3               int64\n",
       "failures_por     int64\n",
       "paid_por        object\n",
       "absences_por     int64\n",
       "G1_por           int64\n",
       "G2_por           int64\n",
       "G3_por           int64\n",
       "dtype: object"
      ]
     },
     "execution_count": 44,
     "metadata": {},
     "output_type": "execute_result"
    }
   ],
   "source": [
    "df.dtypes\n"
   ]
  },
  {
   "cell_type": "code",
   "execution_count": 45,
   "id": "ea81a4a7-1485-4ad9-abf2-c8c8716a9617",
   "metadata": {},
   "outputs": [
    {
     "name": "stdout",
     "output_type": "stream",
     "text": [
      "  school sex address famsize Pstatus     Mjob      Fjob  reason guardian  \\\n",
      "0     gp   f       u     gt3       a  at_home   teacher  course   mother   \n",
      "1     gp   f       u     gt3       t  at_home     other  course   father   \n",
      "2     gp   f       u     le3       t  at_home     other   other   mother   \n",
      "3     gp   f       u     gt3       t   health  services    home   mother   \n",
      "4     gp   f       u     gt3       t    other     other    home   father   \n",
      "\n",
      "  schoolsup famsup paid activities nursery higher internet romantic paid_por  \n",
      "0       yes     no   no         no     yes    yes       no       no       no  \n",
      "1        no    yes   no         no      no    yes      yes       no       no  \n",
      "2       yes     no  yes         no     yes    yes      yes       no       no  \n",
      "3        no    yes  yes        yes     yes    yes      yes      yes       no  \n",
      "4        no    yes  yes         no     yes    yes       no       no       no  \n"
     ]
    }
   ],
   "source": [
    "# Identifier toutes les colonnes catégorielles\n",
    "cat_cols = df.select_dtypes(include='object').columns\n",
    "\n",
    "# Standardiser toutes les valeurs : minuscules + suppression des espaces\n",
    "for col in cat_cols:\n",
    "    df[col] = df[col].str.lower().str.strip()\n",
    "\n",
    "# Vérification du résultat\n",
    "print(df[cat_cols].head())\n"
   ]
  },
  {
   "cell_type": "code",
   "execution_count": 46,
   "id": "c510b7e3-22de-44af-9903-1bcef056202e",
   "metadata": {},
   "outputs": [
    {
     "name": "stdout",
     "output_type": "stream",
     "text": [
      "Requirement already satisfied: python-Levenshtein in c:\\users\\pc\\desktop\\esisa\\4 eme - semestre 2\\data analyst\\projet\\notebook\\notebook\\lib\\site-packages (0.27.1)\n",
      "Requirement already satisfied: Levenshtein==0.27.1 in c:\\users\\pc\\desktop\\esisa\\4 eme - semestre 2\\data analyst\\projet\\notebook\\notebook\\lib\\site-packages (from python-Levenshtein) (0.27.1)\n",
      "Requirement already satisfied: rapidfuzz<4.0.0,>=3.9.0 in c:\\users\\pc\\desktop\\esisa\\4 eme - semestre 2\\data analyst\\projet\\notebook\\notebook\\lib\\site-packages (from Levenshtein==0.27.1->python-Levenshtein) (3.13.0)\n"
     ]
    }
   ],
   "source": [
    "!pip install python-Levenshtein"
   ]
  },
  {
   "cell_type": "code",
   "execution_count": 1,
   "id": "0c0fb470-8ab6-43c8-a889-fb2a6cf684fc",
   "metadata": {},
   "outputs": [],
   "source": [
    "valid_values = {\n",
    "    'school': ['gp', 'ms'],\n",
    "    'sex': ['f', 'm'],\n",
    "    'address': ['u', 'r'],\n",
    "    'famsize': ['le3', 'gt3'],\n",
    "    'Pstatus': ['t', 'a'],\n",
    "    'Mjob': ['teacher', 'health', 'services', 'at_home', 'other'],\n",
    "    'Fjob': ['teacher', 'health', 'services', 'at_home', 'other'],\n",
    "    'reason': ['home', 'reputation', 'course', 'other'],\n",
    "    'guardian': ['mother', 'father', 'other'],\n",
    "    'schoolsup': ['yes', 'no'],\n",
    "    'famsup': ['yes', 'no'],\n",
    "    'paid': ['yes', 'no'],\n",
    "    'activities': ['yes', 'no'],\n",
    "    'nursery': ['yes', 'no'],\n",
    "    'higher': ['yes', 'no'],\n",
    "    'internet': ['yes', 'no'],\n",
    "    'romantic': ['yes', 'no']\n",
    "}\n"
   ]
  },
  {
   "cell_type": "code",
   "execution_count": 2,
   "id": "70f9df7b-14f4-4018-a596-4b172126009b",
   "metadata": {},
   "outputs": [
    {
     "ename": "ModuleNotFoundError",
     "evalue": "No module named 'fuzzywuzzy'",
     "output_type": "error",
     "traceback": [
      "\u001b[1;31m---------------------------------------------------------------------------\u001b[0m",
      "\u001b[1;31mModuleNotFoundError\u001b[0m                       Traceback (most recent call last)",
      "Cell \u001b[1;32mIn[2], line 1\u001b[0m\n\u001b[1;32m----> 1\u001b[0m \u001b[38;5;28;01mfrom\u001b[39;00m\u001b[38;5;250m \u001b[39m\u001b[38;5;21;01mfuzzywuzzy\u001b[39;00m\u001b[38;5;250m \u001b[39m\u001b[38;5;28;01mimport\u001b[39;00m fuzz\n\u001b[0;32m      2\u001b[0m \u001b[38;5;28;01mfrom\u001b[39;00m\u001b[38;5;250m \u001b[39m\u001b[38;5;21;01mfuzzywuzzy\u001b[39;00m\u001b[38;5;250m \u001b[39m\u001b[38;5;28;01mimport\u001b[39;00m process\n\u001b[0;32m      4\u001b[0m \u001b[38;5;66;03m# Colonnes catégorielles\u001b[39;00m\n",
      "\u001b[1;31mModuleNotFoundError\u001b[0m: No module named 'fuzzywuzzy'"
     ]
    }
   ],
   "source": [
    "from fuzzywuzzy import fuzz\n",
    "from fuzzywuzzy import process\n",
    "\n",
    "# Colonnes catégorielles\n",
    "cat_cols = df.select_dtypes(include='object').columns\n",
    "\n",
    "# Seuil de similarité\n",
    "SIMILARITY_THRESHOLD = 90\n",
    "\n",
    "for col in cat_cols:\n",
    "    print(f\"\\nTraitement de la colonne: {col}\")\n",
    "    unique_vals = df[col].dropna().str.lower().str.strip().unique()\n",
    "    replacements = {}\n",
    "\n",
    "    # Définir les valeurs de référence (soit connues, soit les premières observées)\n",
    "    if col in valid_values:\n",
    "        reference_vals = valid_values[col]\n",
    "    else:\n",
    "        reference_vals = list(unique_vals)\n",
    "\n",
    "    # Pour chaque valeur observée, trouver la meilleure correspondance valide\n",
    "    for val in unique_vals:\n",
    "        match, score = process.extractOne(val, reference_vals, scorer=fuzz.ratio)\n",
    "        if score >= SIMILARITY_THRESHOLD:\n",
    "            replacements[val] = match\n",
    "        else:\n",
    "            replacements[val] = val  # on garde la valeur telle quelle\n",
    "\n",
    "    # Nettoyage de la colonne\n",
    "    df[col] = df[col].str.lower().str.strip().map(replacements)\n",
    "    print(\"Valeurs corrigées :\", replacements)\n",
    "\n",
    "# Vérification finale\n",
    "for col in cat_cols:\n",
    "    print(f\"\\n{col}: {df[col].unique()}\")\n",
    "\n",
    "\n",
    "# for col in cat_cols:\n",
    "#     print(f\"\\nTraitement de la colonne: {col}\")\n",
    "#     unique_vals = df[col].dropna().unique()\n",
    "#     replacements = {}\n",
    "\n",
    "#     for val in unique_vals:\n",
    "#         val_clean = val.lower().strip()\n",
    "        \n",
    "#         # Cas initial : aucun élément encore dans replacements\n",
    "#         if not replacements:\n",
    "#             replacements[val_clean] = val_clean\n",
    "#             continue\n",
    "\n",
    "#         # Sinon, chercher une correspondance\n",
    "#         result = process.extractOne(val_clean, list(replacements.keys()), scorer=fuzz.ratio)\n",
    "        \n",
    "#         if result is not None:\n",
    "#             best_match, score = result\n",
    "#             if score >= SIMILARITY_THRESHOLD:\n",
    "#                 replacements[val_clean] = replacements[best_match]  # Fusion\n",
    "#             else:\n",
    "#                 replacements[val_clean] = val_clean  # Nouvelle entrée\n",
    "#         else:\n",
    "#             replacements[val_clean] = val_clean\n",
    "\n",
    "#     # Appliquer la correction\n",
    "#     df[col] = df[col].str.lower().str.strip().map(replacements)\n",
    "\n",
    "#     # Affichage des correspondances trouvées\n",
    "#     print(\"Valeurs corrigées :\", replacements)\n",
    "\n",
    "# # Vérification finale\n",
    "# for col in cat_cols:\n",
    "#     print(f\"\\n{col}: {df[col].unique()}\")\n"
   ]
  },
  {
   "cell_type": "raw",
   "id": "c1757af2-ab0c-49f4-879f-7106639d192c",
   "metadata": {},
   "source": [
    " **Détail par colonne :**\n",
    "\n",
    "| **Colonne**             | **Valeurs uniques**                                            | **Interprétation**                                                                 |\n",
    "|-------------------------|----------------------------------------------------------------|-------------------------------------------------------------------------------------|\n",
    "| `school`                | `['gp', 'ms']`                                                 | Deux écoles correctement identifiées, aucune faute.                                |\n",
    "| `sex`                   | `['f', 'm']`                                                   | Sexe bien normalisé (femme, homme).                                                |\n",
    "| `address`               | `['u', 'r']`                                                   | Type d’habitation bien enregistré (urbain/rural).                                  |\n",
    "| `famsize`               | `['gt3', 'le3']`                                               | Taille de la famille bien catégorisée.                                             |\n",
    "| `Pstatus`               | `['a', 't']`                                                   | Statut des parents bien encodé (séparés ou ensemble).                              |\n",
    "| `Mjob`                  | `['at_home', 'health', 'other', 'services', 'teacher']`        | Tous les métiers maternels standardisés – les variantes comme `athome` ont été fusionnées. |\n",
    "| `Fjob`                  | `['teacher', 'other', 'services', 'health', 'at_home']`        | Même nettoyage réussi que pour `Mjob`.                                             |\n",
    "| `reason`                | `['course', 'other', 'home', 'reputation']`                    | Raisons de choix d’école bien uniformisées.                                        |\n",
    "| `guardian`              | `['mother', 'father']`                                         | L’entrée `other` a été fusionnée avec `mother` (⚠️ à vérifier si pertinent).        |\n",
    "| `schoolsup` → `romantic`| `['yes', 'no']`                                                | Tous les champs binaires sont parfaitement nettoyés (aucune faute de frappe).      |\n",
    "| `paid_por`              | `['no', 'yes']`                                                | Identique : tout est conforme.                                                     |\n"
   ]
  },
  {
   "cell_type": "markdown",
   "id": "3f2bf3d3-2e55-44c5-94bd-5c995715fcda",
   "metadata": {},
   "source": [
    "## Détection des outliers"
   ]
  },
  {
   "cell_type": "code",
   "execution_count": 48,
   "id": "e8cec3a9-9a86-4376-a6fe-082a9eb3b625",
   "metadata": {},
   "outputs": [
    {
     "name": "stdout",
     "output_type": "stream",
     "text": [
      "Requirement already satisfied: seaborn in c:\\users\\pc\\desktop\\esisa\\4 eme - semestre 2\\data analyst\\projet\\notebook\\notebook\\lib\\site-packages (0.13.2)\n",
      "Requirement already satisfied: numpy!=1.24.0,>=1.20 in c:\\users\\pc\\desktop\\esisa\\4 eme - semestre 2\\data analyst\\projet\\notebook\\notebook\\lib\\site-packages (from seaborn) (2.2.5)\n",
      "Requirement already satisfied: pandas>=1.2 in c:\\users\\pc\\desktop\\esisa\\4 eme - semestre 2\\data analyst\\projet\\notebook\\notebook\\lib\\site-packages (from seaborn) (2.2.3)\n",
      "Requirement already satisfied: matplotlib!=3.6.1,>=3.4 in c:\\users\\pc\\desktop\\esisa\\4 eme - semestre 2\\data analyst\\projet\\notebook\\notebook\\lib\\site-packages (from seaborn) (3.10.1)\n",
      "Requirement already satisfied: contourpy>=1.0.1 in c:\\users\\pc\\desktop\\esisa\\4 eme - semestre 2\\data analyst\\projet\\notebook\\notebook\\lib\\site-packages (from matplotlib!=3.6.1,>=3.4->seaborn) (1.3.2)\n",
      "Requirement already satisfied: cycler>=0.10 in c:\\users\\pc\\desktop\\esisa\\4 eme - semestre 2\\data analyst\\projet\\notebook\\notebook\\lib\\site-packages (from matplotlib!=3.6.1,>=3.4->seaborn) (0.12.1)\n",
      "Requirement already satisfied: fonttools>=4.22.0 in c:\\users\\pc\\desktop\\esisa\\4 eme - semestre 2\\data analyst\\projet\\notebook\\notebook\\lib\\site-packages (from matplotlib!=3.6.1,>=3.4->seaborn) (4.57.0)\n",
      "Requirement already satisfied: kiwisolver>=1.3.1 in c:\\users\\pc\\desktop\\esisa\\4 eme - semestre 2\\data analyst\\projet\\notebook\\notebook\\lib\\site-packages (from matplotlib!=3.6.1,>=3.4->seaborn) (1.4.8)\n",
      "Requirement already satisfied: packaging>=20.0 in c:\\users\\pc\\desktop\\esisa\\4 eme - semestre 2\\data analyst\\projet\\notebook\\notebook\\lib\\site-packages (from matplotlib!=3.6.1,>=3.4->seaborn) (25.0)\n",
      "Requirement already satisfied: pillow>=8 in c:\\users\\pc\\desktop\\esisa\\4 eme - semestre 2\\data analyst\\projet\\notebook\\notebook\\lib\\site-packages (from matplotlib!=3.6.1,>=3.4->seaborn) (11.2.1)\n",
      "Requirement already satisfied: pyparsing>=2.3.1 in c:\\users\\pc\\desktop\\esisa\\4 eme - semestre 2\\data analyst\\projet\\notebook\\notebook\\lib\\site-packages (from matplotlib!=3.6.1,>=3.4->seaborn) (3.2.3)\n",
      "Requirement already satisfied: python-dateutil>=2.7 in c:\\users\\pc\\desktop\\esisa\\4 eme - semestre 2\\data analyst\\projet\\notebook\\notebook\\lib\\site-packages (from matplotlib!=3.6.1,>=3.4->seaborn) (2.9.0.post0)\n",
      "Requirement already satisfied: pytz>=2020.1 in c:\\users\\pc\\desktop\\esisa\\4 eme - semestre 2\\data analyst\\projet\\notebook\\notebook\\lib\\site-packages (from pandas>=1.2->seaborn) (2025.2)\n",
      "Requirement already satisfied: tzdata>=2022.7 in c:\\users\\pc\\desktop\\esisa\\4 eme - semestre 2\\data analyst\\projet\\notebook\\notebook\\lib\\site-packages (from pandas>=1.2->seaborn) (2025.2)\n",
      "Requirement already satisfied: six>=1.5 in c:\\users\\pc\\desktop\\esisa\\4 eme - semestre 2\\data analyst\\projet\\notebook\\notebook\\lib\\site-packages (from python-dateutil>=2.7->matplotlib!=3.6.1,>=3.4->seaborn) (1.17.0)\n"
     ]
    }
   ],
   "source": [
    "!pip install seaborn "
   ]
  },
  {
   "cell_type": "code",
   "execution_count": 49,
   "id": "aee82c0e-14aa-4c24-8836-0cf9c888dac7",
   "metadata": {
    "scrolled": true
   },
   "outputs": [
    {
     "data": {
      "text/plain": [
       "[('failures', 66),\n",
       " ('failures_por', 34),\n",
       " ('studytime', 27),\n",
       " ('famrel', 27),\n",
       " ('freetime', 18),\n",
       " ('Dalc', 17),\n",
       " ('absences_por', 17),\n",
       " ('age', 13),\n",
       " ('absences', 13),\n",
       " ('G2', 13),\n",
       " ('G3_por', 12),\n",
       " ('traveltime', 8),\n",
       " ('G2_por', 2),\n",
       " ('G1_por', 1),\n",
       " ('Medu', 0),\n",
       " ('Fedu', 0),\n",
       " ('goout', 0),\n",
       " ('Walc', 0),\n",
       " ('health', 0),\n",
       " ('G1', 0),\n",
       " ('G3', 0)]"
      ]
     },
     "execution_count": 49,
     "metadata": {},
     "output_type": "execute_result"
    }
   ],
   "source": [
    "# Sélection des colonnes numériques\n",
    "numerical_cols = df.select_dtypes(include=['int64', 'float64']).columns\n",
    "\n",
    "# Détection des valeurs aberrantes avec la méthode IQR\n",
    "outliers_iqr = {}\n",
    "for col in numerical_cols:\n",
    "    Q1 = df[col].quantile(0.25)\n",
    "    Q3 = df[col].quantile(0.75)\n",
    "    IQR = Q3 - Q1\n",
    "    outliers = df[(df[col] < (Q1 - 1.5 * IQR)) | (df[col] > (Q3 + 1.5 * IQR))]\n",
    "    outliers_iqr[col] = len(outliers)\n",
    "\n",
    "# Afficher les colonnes avec le plus grand nombre de valeurs aberrantes\n",
    "sorted(outliers_iqr.items(), key=lambda x: x[1], reverse=True)\n"
   ]
  },
  {
   "cell_type": "code",
   "execution_count": 50,
   "id": "a1e13cd9-b943-4af6-8748-665fe0c15795",
   "metadata": {},
   "outputs": [
    {
     "data": {
      "image/png": "[encoded data removed]",
      "text/plain": [
       "<Figure size 1500x800 with 1 Axes>"
      ]
     },
     "metadata": {},
     "output_type": "display_data"
    }
   ],
   "source": [
    "import seaborn as sns\n",
    "import matplotlib.pyplot as plt\n",
    "\n",
    "plt.figure(figsize=(15, 8))\n",
    "sns.boxplot(data=df[numerical_cols])\n",
    "plt.xticks(rotation=90)\n",
    "plt.title(\"Boxplot des variables numériques\")\n",
    "plt.show()\n"
   ]
  },
  {
   "cell_type": "code",
   "execution_count": 28,
   "id": "d1e7352c-7a07-4b34-b49d-2ad032516ab3",
   "metadata": {},
   "outputs": [
    {
     "data": {
      "text/plain": [
       "Index(['school', 'sex', 'age', 'address', 'famsize', 'Pstatus', 'Medu', 'Fedu',\n",
       "       'Mjob', 'Fjob', 'reason', 'guardian_x', 'traveltime_x', 'studytime_x',\n",
       "       'failures_x', 'schoolsup_x', 'famsup_x', 'paid_x', 'activities_x',\n",
       "       'nursery', 'higher_x', 'internet', 'romantic_x', 'famrel_x',\n",
       "       'freetime_x', 'goout_x', 'Dalc_x', 'Walc_x', 'health_x', 'absences_x',\n",
       "       'G1_x', 'G2_x', 'G3_x', 'guardian_y', 'traveltime_y', 'studytime_y',\n",
       "       'failures_y', 'schoolsup_y', 'famsup_y', 'paid_y', 'activities_y',\n",
       "       'higher_y', 'romantic_y', 'famrel_y', 'freetime_y', 'goout_y', 'Dalc_y',\n",
       "       'Walc_y', 'health_y', 'absences_y', 'G1_y', 'G2_y', 'G3_y'],\n",
       "      dtype='object')"
      ]
     },
     "execution_count": 28,
     "metadata": {},
     "output_type": "execute_result"
    }
   ],
   "source": []
  },
  {
   "cell_type": "code",
   "execution_count": null,
   "id": "dbba8e9d-ffe2-4bef-984b-5b977d4570ef",
   "metadata": {},
   "outputs": [],
   "source": []
  },
  {
   "cell_type": "code",
   "execution_count": null,
   "id": "a52f050c-8881-4479-8226-b18239af0218",
   "metadata": {},
   "outputs": [],
   "source": []
  },
  {
   "cell_type": "code",
   "execution_count": null,
   "id": "019cc8da-da3f-4b81-bea0-b4c3af7568d7",
   "metadata": {},
   "outputs": [],
   "source": []
  },
  {
   "cell_type": "code",
   "execution_count": null,
   "id": "ecafcd6c-565a-44d8-9c32-c5ae5cf34cdb",
   "metadata": {},
   "outputs": [],
   "source": []
  },
  {
   "cell_type": "code",
   "execution_count": null,
   "id": "4aa3df85-dd49-4620-903f-fc9bd306c7e4",
   "metadata": {},
   "outputs": [],
   "source": []
  },
  {
   "cell_type": "code",
   "execution_count": null,
   "id": "d9ce2b31-2b50-495b-bf4a-599c1f5ca9fc",
   "metadata": {},
   "outputs": [],
   "source": []
  },
  {
   "cell_type": "code",
   "execution_count": null,
   "id": "cf821580-9f0b-46fd-a81a-cdd054863ac9",
   "metadata": {},
   "outputs": [],
   "source": []
  },
  {
   "cell_type": "code",
   "execution_count": null,
   "id": "ef286560-468c-4b6c-8119-d2d1f5a6d367",
   "metadata": {},
   "outputs": [],
   "source": []
  },
  {
   "cell_type": "markdown",
   "id": "98c2c04e-d1cc-4b49-b033-9340eaa2e8ac",
   "metadata": {},
   "source": [
    " ### Standardisation des valeurs catégorielles\n"
   ]
  },
  {
   "cell_type": "raw",
   "id": "7bd8118f-03cf-467d-adfb-0ad9be1ef526",
   "metadata": {},
   "source": [
    "# Encodage binaire simple\n",
    "binary_map = {'yes': 1, 'no': 0, 'F': 0, 'M': 1, 'U': 0, 'R': 1, 'LE3': 0, 'GT3': 1, 'T': 1, 'A': 0}\n",
    "for col in ['school', 'sex', 'address', 'famsize', 'Pstatus', 'schoolsup', 'famsup',\n",
    "            'paid', 'activities', 'nursery', 'higher', 'internet', 'romantic', 'paid_por']:!\n",
    "    df[col] = df[col].map(binary_map)\n",
    "\n",
    "# One-hot encoding\n",
    "df = pd.get_dummies(df, columns=['Mjob', 'Fjob', 'reason', 'guardian'], drop_first=True)\n",
    "\n",
    "# Vérifier les types finaux\n",
    "print(df.dtypes)\n"
   ]
  },
  {
   "cell_type": "code",
   "execution_count": null,
   "id": "6df76c19-546f-4baa-8c19-6a21f30f891d",
   "metadata": {},
   "outputs": [],
   "source": []
  },
  {
   "cell_type": "code",
   "execution_count": null,
   "id": "d176f928-c6dd-4ec5-8519-cde896a891b3",
   "metadata": {},
   "outputs": [],
   "source": []
  },
  {
   "cell_type": "code",
   "execution_count": null,
   "id": "2dc5ab8f-d027-4d38-b4c5-841ed0fb3579",
   "metadata": {},
   "outputs": [],
   "source": []
  },
  {
   "cell_type": "code",
   "execution_count": null,
   "id": "01286ffe-3741-4472-8bda-40566c312cd3",
   "metadata": {},
   "outputs": [],
   "source": []
  },
  {
   "cell_type": "code",
   "execution_count": null,
   "id": "a3f846c6-4bfa-424c-9ea0-ac0bde60dbef",
   "metadata": {},
   "outputs": [],
   "source": []
  },
  {
   "cell_type": "code",
   "execution_count": null,
   "id": "1093cc23-1e41-4373-83a9-bd9e17608aa1",
   "metadata": {},
   "outputs": [],
   "source": []
  },
  {
   "cell_type": "code",
   "execution_count": null,
   "id": "9d93bf0a-af92-40e0-9864-1518a4139eb9",
   "metadata": {},
   "outputs": [],
   "source": []
  },
  {
   "cell_type": "code",
   "execution_count": null,
   "id": "d0d8b90b-5aef-43b9-bba6-d20f7efc35c1",
   "metadata": {},
   "outputs": [],
   "source": []
  },
  {
   "cell_type": "code",
   "execution_count": null,
   "id": "b6a4d2b9-1d13-40b0-972b-d8253c034613",
   "metadata": {},
   "outputs": [],
   "source": []
  },
  {
   "cell_type": "code",
   "execution_count": null,
   "id": "81457af9-b6bd-4cd1-bec1-2b6af99386c0",
   "metadata": {},
   "outputs": [],
   "source": []
  },
  {
   "cell_type": "code",
   "execution_count": null,
   "id": "dd8d2573-ac0a-49e8-a989-a8fac0831441",
   "metadata": {},
   "outputs": [],
   "source": []
  },
  {
   "cell_type": "code",
   "execution_count": null,
   "id": "a444301a-aa3c-40a0-bf40-3dc9766604fa",
   "metadata": {},
   "outputs": [],
   "source": []
  },
  {
   "cell_type": "code",
   "execution_count": null,
   "id": "713d2f2e-959e-451a-919b-b4fa5d98c520",
   "metadata": {},
   "outputs": [],
   "source": []
  },
  {
   "cell_type": "code",
   "execution_count": null,
   "id": "5f13c581-e5f1-48ab-adab-219a9b8668c0",
   "metadata": {},
   "outputs": [],
   "source": []
  },
  {
   "cell_type": "code",
   "execution_count": null,
   "id": "c88ea878-a9a8-422b-85be-4ec93722eb0c",
   "metadata": {},
   "outputs": [],
   "source": []
  },
  {
   "cell_type": "code",
   "execution_count": null,
   "id": "152ab9dc-3227-4482-bf28-74994f6dff49",
   "metadata": {},
   "outputs": [],
   "source": []
  }
 ],
 "metadata": {
  "kernelspec": {
   "display_name": "Python 3 (ipykernel)",
   "language": "python",
   "name": "python3"
  },
  "language_info": {
   "codemirror_mode": {
    "name": "ipython",
    "version": 3
   },
   "file_extension": ".py",
   "mimetype": "text/x-python",
   "name": "python",
   "nbconvert_exporter": "python",
   "pygments_lexer": "ipython3",
   "version": "3.10.5"
  }
 },
 "nbformat": 4,
 "nbformat_minor": 5
}
